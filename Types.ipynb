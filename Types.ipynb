{
 "cells": [
  {
   "cell_type": "markdown",
   "metadata": {},
   "source": [
    "### Typescript Types Tutorial"
   ]
  },
  {
   "cell_type": "markdown",
   "metadata": {},
   "source": [
    "### 타입 3가지: `string`, `number` 그리고 `boolean`\n",
    "\n",
    "1. `string` 타입은 말그대로 문자열을 뜻한다.\n",
    "2. `number` 타입은 말그대로 숫자를 뜻한다. 하지만 float 형도 포함한다.\n",
    "3. `boolean` 타입은 말그대로 참/거짓을 뜻한다.\n",
    "\n",
    "### 타입을 선언하는 방법\n",
    "\n",
    "```typescript\n",
    "// 타입은 다음과 같이 선언합니다\n",
    "\n",
    "let _변수명_: _타입_ = _값_\n",
    "```"
   ]
  },
  {
   "cell_type": "code",
   "execution_count": 1,
   "metadata": {},
   "outputs": [],
   "source": [
    "let a: string = \"Hello World\"\n",
    "\n",
    "let b: number = 1\n",
    "let c: number = 1.2\n",
    "\n",
    "let d: boolean = true"
   ]
  },
  {
   "cell_type": "code",
   "execution_count": 2,
   "metadata": {},
   "outputs": [
    {
     "name": "stdout",
     "output_type": "stream",
     "text": [
      "a's value is Hello World and type is string\n"
     ]
    }
   ],
   "source": [
    "console.log(`a's value is ${a} and type is ${typeof a}`)"
   ]
  },
  {
   "cell_type": "code",
   "execution_count": 3,
   "metadata": {},
   "outputs": [
    {
     "name": "stdout",
     "output_type": "stream",
     "text": [
      "b's value is 1 and type is number\n"
     ]
    }
   ],
   "source": [
    "console.log(`b's value is ${b} and type is ${typeof b}`)"
   ]
  },
  {
   "cell_type": "code",
   "execution_count": 4,
   "metadata": {},
   "outputs": [
    {
     "name": "stdout",
     "output_type": "stream",
     "text": [
      "c's value is 1.2 and type is number\n"
     ]
    }
   ],
   "source": [
    "console.log(`c's value is ${c} and type is ${typeof c}`)"
   ]
  },
  {
   "cell_type": "code",
   "execution_count": 6,
   "metadata": {
    "scrolled": true
   },
   "outputs": [
    {
     "name": "stdout",
     "output_type": "stream",
     "text": [
      "d's value is true and type is boolean\n"
     ]
    }
   ],
   "source": [
    "console.log(`d's value is ${d} and type is ${typeof d}`)"
   ]
  },
  {
   "cell_type": "markdown",
   "metadata": {},
   "source": [
    "#### 번외: `any` 타입\n",
    "\n",
    "1. 필요없지만 필요할 때 Any 타입을 선언하여 어떤 타입이던지 받거나 선언할 수 있다.\n",
    "2. 하지만 사용하지 않는 것이 좋다."
   ]
  },
  {
   "cell_type": "code",
   "execution_count": 9,
   "metadata": {},
   "outputs": [],
   "source": [
    "let e: any = [\"hello\", \"world\"]"
   ]
  },
  {
   "cell_type": "code",
   "execution_count": 10,
   "metadata": {},
   "outputs": [
    {
     "name": "stdout",
     "output_type": "stream",
     "text": [
      "e's value is hello,world and type is object\n"
     ]
    }
   ],
   "source": [
    "console.log(`e's value is ${e} and type is ${typeof e}`)"
   ]
  },
  {
   "cell_type": "markdown",
   "metadata": {},
   "source": [
    "### 배열 선언: `Array<Type>`\n",
    "\n",
    "* 배열의 선언은 `Array<Type>`을 통해서 선언할 수 있다."
   ]
  },
  {
   "cell_type": "code",
   "execution_count": 7,
   "metadata": {},
   "outputs": [],
   "source": [
    "let array: Array<string> = [\"1\", \"2\", \"3\"]"
   ]
  },
  {
   "cell_type": "code",
   "execution_count": 8,
   "metadata": {},
   "outputs": [
    {
     "name": "stdout",
     "output_type": "stream",
     "text": [
      "array's value is 1,2,3 and type is object\n"
     ]
    }
   ],
   "source": [
    "console.log(`array's value is ${array} and type is ${typeof array}`)"
   ]
  },
  {
   "cell_type": "markdown",
   "metadata": {},
   "source": [
    "### 함수: Parameter & Return Type\n",
    "\n",
    "```typescript\n",
    "function 함수_명(파라메터_이름: _타입_): _반환_타입_\n",
    "```"
   ]
  },
  {
   "cell_type": "code",
   "execution_count": 11,
   "metadata": {},
   "outputs": [],
   "source": [
    "function hello(value: string): string {\n",
    "    return `hello: ${value}`\n",
    "}"
   ]
  },
  {
   "cell_type": "code",
   "execution_count": 12,
   "metadata": {},
   "outputs": [
    {
     "name": "stdout",
     "output_type": "stream",
     "text": [
      "hello: world\n"
     ]
    }
   ],
   "source": [
    "console.log(hello(\"world\"))"
   ]
  },
  {
   "cell_type": "markdown",
   "metadata": {},
   "source": [
    "### 오브젝트 타입: `JSON`\n",
    "\n",
    "* 참고할 점은, 각 파라메터의 이름의 마지막에 `?`를 붙이지 않는 이상은 필수적으로 들어가야 한다고 판단한다."
   ]
  },
  {
   "cell_type": "code",
   "execution_count": 15,
   "metadata": {},
   "outputs": [],
   "source": [
    "function helloParam(pt: {name: string, value: number}): string {\n",
    "    return `pt's name is ${pt.name} and value is ${pt.value}`\n",
    "}"
   ]
  },
  {
   "cell_type": "code",
   "execution_count": 16,
   "metadata": {},
   "outputs": [
    {
     "name": "stdout",
     "output_type": "stream",
     "text": [
      "pt's name is joe and value is 1\n"
     ]
    }
   ],
   "source": [
    "console.log(helloParam({name: \"joe\", value: 1}))"
   ]
  },
  {
   "cell_type": "code",
   "execution_count": 18,
   "metadata": {},
   "outputs": [
    {
     "name": "stderr",
     "output_type": "stream",
     "text": [
      "2:24 - Argument of type '{ name: string; }' is not assignable to parameter of type '{ name: string; value: number; }'.\n",
      "2:24 - Property 'value' is missing in type '{ name: string; }' but required in type '{ name: string; value: number; }'.\n"
     ]
    }
   ],
   "source": [
    "// 값을 넣지 않으면 에러가 날 것이다.\n",
    "console.log(helloParam({name: \"joe\"}))"
   ]
  },
  {
   "cell_type": "code",
   "execution_count": 19,
   "metadata": {},
   "outputs": [
    {
     "name": "stderr",
     "output_type": "stream",
     "text": [
      "2:38 - Type 'string' is not assignable to type 'number'.\n"
     ]
    }
   ],
   "source": [
    "// 혹은 다른 타입이 들어가는 경우에도 에러가 날 것이다.\n",
    "console.log(helloParam({name: \"joe\", value: \"1\"}))"
   ]
  },
  {
   "cell_type": "code",
   "execution_count": 22,
   "metadata": {},
   "outputs": [],
   "source": [
    "function helloHaveNotRequiredParam(pt: {name: string, value?: number}): string {\n",
    "    return `pt's name is ${pt.name} and value is ${pt.value}`\n",
    "}"
   ]
  },
  {
   "cell_type": "code",
   "execution_count": 23,
   "metadata": {},
   "outputs": [
    {
     "name": "stdout",
     "output_type": "stream",
     "text": [
      "pt's name is hello and value is undefined\n"
     ]
    }
   ],
   "source": [
    "console.log(helloHaveNotRequiredParam({name: \"hello\"}))"
   ]
  },
  {
   "cell_type": "markdown",
   "metadata": {},
   "source": [
    "### 유니언 타입: 한 파라메터의 값은 여러개?"
   ]
  },
  {
   "cell_type": "code",
   "execution_count": 24,
   "metadata": {},
   "outputs": [],
   "source": [
    "function helloUnionParam(pt: {name: string, value: number | string}): string {\n",
    "    return `pt's name is ${pt.name} and value is ${pt.value}`\n",
    "}"
   ]
  },
  {
   "cell_type": "code",
   "execution_count": 25,
   "metadata": {},
   "outputs": [
    {
     "name": "stdout",
     "output_type": "stream",
     "text": [
      "pt's name is hello and value is 1\n"
     ]
    }
   ],
   "source": [
    "console.log(helloUnionParam({name: \"hello\", value: 1}))"
   ]
  },
  {
   "cell_type": "code",
   "execution_count": 26,
   "metadata": {},
   "outputs": [
    {
     "name": "stdout",
     "output_type": "stream",
     "text": [
      "pt's name is hello and value is 1\n"
     ]
    }
   ],
   "source": [
    "console.log(helloUnionParam({name: \"hello\", value: \"1\"}))"
   ]
  },
  {
   "cell_type": "markdown",
   "metadata": {},
   "source": [
    "### `type`: 하나의 이름으로 타입을 생성하고 여러번 사용해보자"
   ]
  },
  {
   "cell_type": "code",
   "execution_count": 27,
   "metadata": {},
   "outputs": [],
   "source": [
    "type Point = {\n",
    "    x: number;\n",
    "    y: number;\n",
    "}"
   ]
  },
  {
   "cell_type": "code",
   "execution_count": 28,
   "metadata": {},
   "outputs": [],
   "source": [
    "function PointRecord(pt: Point): string {\n",
    "    return `pt.x: ${pt.x}, pt.y: ${pt.y}`\n",
    "}"
   ]
  },
  {
   "cell_type": "code",
   "execution_count": 29,
   "metadata": {
    "scrolled": true
   },
   "outputs": [
    {
     "name": "stdout",
     "output_type": "stream",
     "text": [
      "pt.x: 1, pt.y: 2\n"
     ]
    }
   ],
   "source": [
    "PointRecord({x: 1, y: 2})"
   ]
  },
  {
   "cell_type": "code",
   "execution_count": 30,
   "metadata": {},
   "outputs": [],
   "source": [
    "type ID = number | string;"
   ]
  },
  {
   "cell_type": "code",
   "execution_count": 31,
   "metadata": {},
   "outputs": [],
   "source": [
    "let idIsString: ID = \"StringId\""
   ]
  },
  {
   "cell_type": "code",
   "execution_count": 32,
   "metadata": {},
   "outputs": [],
   "source": [
    "let idIsNumber: ID = 1"
   ]
  },
  {
   "cell_type": "code",
   "execution_count": 33,
   "metadata": {},
   "outputs": [
    {
     "name": "stderr",
     "output_type": "stream",
     "text": [
      "1:5 - Type 'boolean' is not assignable to type 'ID'.\n"
     ]
    }
   ],
   "source": [
    "let idCannotBeOtherType: ID = false"
   ]
  },
  {
   "cell_type": "markdown",
   "metadata": {},
   "source": [
    "### `interface`: Object Type을 생성하는 또 다른 방법\n",
    "\n",
    "* 타입과 인터페이스는 어떤 차이점이 있는가: https://www.typescriptlang.org/docs/handbook/2/everyday-types.html#differences-between-type-aliases-and-interfaces"
   ]
  },
  {
   "cell_type": "code",
   "execution_count": 34,
   "metadata": {},
   "outputs": [],
   "source": [
    "interface InterfacePoint {\n",
    "    x: number;\n",
    "    y: number;\n",
    "}"
   ]
  },
  {
   "cell_type": "code",
   "execution_count": 35,
   "metadata": {},
   "outputs": [],
   "source": [
    "function printInterfacePoint(iPt: InterfacePoint): string {\n",
    "    return `iPt.x: ${iPt.x}, iPt.y: ${iPt.y}`\n",
    "}"
   ]
  },
  {
   "cell_type": "code",
   "execution_count": 36,
   "metadata": {},
   "outputs": [
    {
     "name": "stdout",
     "output_type": "stream",
     "text": [
      "iPt.x: 1, iPt.y: 2\n"
     ]
    }
   ],
   "source": [
    "printInterfacePoint({x: 1, y: 2})"
   ]
  },
  {
   "cell_type": "markdown",
   "metadata": {},
   "source": [
    "### `Literal Types`: 모 아니면 도"
   ]
  },
  {
   "cell_type": "code",
   "execution_count": 37,
   "metadata": {},
   "outputs": [],
   "source": [
    "let m_or_d: \"mo\" | \"do\" = \"mo\""
   ]
  },
  {
   "cell_type": "code",
   "execution_count": 38,
   "metadata": {},
   "outputs": [
    {
     "name": "stdout",
     "output_type": "stream",
     "text": [
      "do\n"
     ]
    }
   ],
   "source": [
    "m_or_d = \"do\""
   ]
  },
  {
   "cell_type": "code",
   "execution_count": 39,
   "metadata": {},
   "outputs": [
    {
     "name": "stderr",
     "output_type": "stream",
     "text": [
      "1:1 - Type '\"no\"' is not assignable to type '\"mo\" | \"do\"'.\n"
     ]
    }
   ],
   "source": [
    "m_or_d = \"no\""
   ]
  },
  {
   "cell_type": "markdown",
   "metadata": {},
   "source": [
    "### `extends`: 여러가지의 interface를 하나로 합치기"
   ]
  },
  {
   "cell_type": "code",
   "execution_count": 40,
   "metadata": {},
   "outputs": [],
   "source": [
    "interface A {\n",
    "    hello: string\n",
    "}"
   ]
  },
  {
   "cell_type": "code",
   "execution_count": 41,
   "metadata": {},
   "outputs": [],
   "source": [
    "interface B {\n",
    "    world: string\n",
    "}"
   ]
  },
  {
   "cell_type": "code",
   "execution_count": 43,
   "metadata": {},
   "outputs": [],
   "source": [
    "interface C extends A, B {} // if extends multiple interfaces, use like this"
   ]
  },
  {
   "cell_type": "code",
   "execution_count": 44,
   "metadata": {},
   "outputs": [],
   "source": [
    "const cc: C = {\n",
    "    hello: \"hello\",\n",
    "    world: \"world\"\n",
    "}"
   ]
  },
  {
   "cell_type": "code",
   "execution_count": 46,
   "metadata": {},
   "outputs": [
    {
     "name": "stdout",
     "output_type": "stream",
     "text": [
      "cc.hello: hello, cc.world: world\n"
     ]
    }
   ],
   "source": [
    "console.log(`cc.hello: ${cc.hello}, cc.world: ${cc.world}`)"
   ]
  },
  {
   "cell_type": "markdown",
   "metadata": {},
   "source": [
    "### `Keyof`"
   ]
  },
  {
   "cell_type": "code",
   "execution_count": 47,
   "metadata": {},
   "outputs": [],
   "source": [
    "type Point = {x: number, y: number}"
   ]
  },
  {
   "cell_type": "code",
   "execution_count": 48,
   "metadata": {},
   "outputs": [],
   "source": [
    "type P = keyof Point;"
   ]
  },
  {
   "cell_type": "code",
   "execution_count": 51,
   "metadata": {},
   "outputs": [],
   "source": [
    "function typeP(p: P) {\n",
    "    console.log(p)\n",
    "}"
   ]
  },
  {
   "cell_type": "code",
   "execution_count": 60,
   "metadata": {},
   "outputs": [
    {
     "name": "stderr",
     "output_type": "stream",
     "text": [
      "3:7 - Argument of type '\"z\"' is not assignable to parameter of type '\"x\" | \"y\"'.\n"
     ]
    }
   ],
   "source": [
    "typeP(\"x\") // works\n",
    "typeP(\"y\") // works\n",
    "typeP(\"z\") // not works because of parameter does not have z"
   ]
  }
 ],
 "metadata": {
  "kernelspec": {
   "display_name": "TypeScript",
   "language": "typescript",
   "name": "tslab"
  },
  "language_info": {
   "codemirror_mode": {
    "mode": "typescript",
    "name": "javascript",
    "typescript": true
   },
   "file_extension": ".ts",
   "mimetype": "text/typescript",
   "name": "typescript",
   "version": "3.7.2"
  }
 },
 "nbformat": 4,
 "nbformat_minor": 4
}
