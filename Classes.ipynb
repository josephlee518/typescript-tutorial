{
 "cells": [
  {
   "cell_type": "markdown",
   "metadata": {},
   "source": [
    "# 클래스"
   ]
  },
  {
   "cell_type": "markdown",
   "metadata": {},
   "source": [
    "## 클래스 생성"
   ]
  },
  {
   "cell_type": "code",
   "execution_count": 1,
   "metadata": {},
   "outputs": [],
   "source": [
    "class Point {\n",
    "    x: number;\n",
    "    y: number\n",
    "}"
   ]
  },
  {
   "cell_type": "code",
   "execution_count": 2,
   "metadata": {},
   "outputs": [],
   "source": [
    "const pt = new Point()"
   ]
  },
  {
   "cell_type": "code",
   "execution_count": 3,
   "metadata": {},
   "outputs": [
    {
     "name": "stdout",
     "output_type": "stream",
     "text": [
      "\u001b[33m1\u001b[39m\n"
     ]
    }
   ],
   "source": [
    "pt.x = 1"
   ]
  },
  {
   "cell_type": "code",
   "execution_count": 4,
   "metadata": {},
   "outputs": [
    {
     "name": "stdout",
     "output_type": "stream",
     "text": [
      "\u001b[33m2\u001b[39m\n"
     ]
    }
   ],
   "source": [
    "pt.y = 2"
   ]
  },
  {
   "cell_type": "code",
   "execution_count": 5,
   "metadata": {},
   "outputs": [
    {
     "name": "stdout",
     "output_type": "stream",
     "text": [
      "pt.x 1 pt.y 2\n"
     ]
    }
   ],
   "source": [
    "console.log(`pt.x ${pt.x} pt.y ${pt.y}`)"
   ]
  },
  {
   "cell_type": "markdown",
   "metadata": {},
   "source": [
    "### 클래스 With Constructors\n",
    "\n",
    "#### 주의점\n",
    "1. Constructors can’t have type parameters: 컨스트럭터는 타입 파라메터를 가질 수 없다.\n",
    "2. Constructors can’t have return type annotations: 컨스트럭터는 반환하지 않는다."
   ]
  },
  {
   "cell_type": "code",
   "execution_count": 6,
   "metadata": {},
   "outputs": [],
   "source": [
    "class PointWithConstructors {\n",
    "    x: number;\n",
    "    y: number;\n",
    "    \n",
    "    constructor(x = 0, y = 0) {\n",
    "        this.x = x;\n",
    "        this.y = y\n",
    "    }\n",
    "}"
   ]
  },
  {
   "cell_type": "code",
   "execution_count": 7,
   "metadata": {},
   "outputs": [],
   "source": [
    "const pWC = new PointWithConstructors(1, 2)"
   ]
  },
  {
   "cell_type": "code",
   "execution_count": 9,
   "metadata": {},
   "outputs": [
    {
     "name": "stdout",
     "output_type": "stream",
     "text": [
      "pWC.x: 1, pWC.y: 2\n"
     ]
    }
   ],
   "source": [
    "console.log(`pWC.x: ${pWC.x}, pWC.y: ${pWC.y}`)"
   ]
  },
  {
   "cell_type": "code",
   "execution_count": 10,
   "metadata": {},
   "outputs": [
    {
     "name": "stderr",
     "output_type": "stream",
     "text": [
      "7:9 - Type 'string' is not assignable to type 'number'.\n"
     ]
    }
   ],
   "source": [
    "class PointWithConstructorsCannotHaveParam {\n",
    "    x: number;\n",
    "    y: number;\n",
    "    \n",
    "    constructor(x: number, y: string) {\n",
    "        this.x = x\n",
    "        this.y = y\n",
    "    }\n",
    "}"
   ]
  },
  {
   "cell_type": "markdown",
   "metadata": {},
   "source": [
    "### Super\n",
    "\n",
    "* 부모 클래스를 상속받을때 Super 메서드를 사용하여 상속받는다. 하지만 자바스크립트에서 Super 없이 부모의 클래스에 접근할 수 없다.\n",
    "\n",
    "* 그래서 타입스크립트에서는 이러한 것들을 체크하여 부모의 클래스에 엑세스하기 전에 Super을 할 수 있도록 알려준다."
   ]
  },
  {
   "cell_type": "code",
   "execution_count": 11,
   "metadata": {},
   "outputs": [],
   "source": [
    "class Base {\n",
    "    k: number = 4\n",
    "}"
   ]
  },
  {
   "cell_type": "code",
   "execution_count": 13,
   "metadata": {},
   "outputs": [],
   "source": [
    "class Derived extends Base {\n",
    "    constructor() {\n",
    "        super()\n",
    "        console.log(this.k)\n",
    "    }\n",
    "}"
   ]
  },
  {
   "cell_type": "code",
   "execution_count": 14,
   "metadata": {},
   "outputs": [
    {
     "name": "stderr",
     "output_type": "stream",
     "text": [
      "3:21 - 'super' must be called before accessing 'this' in the constructor of a derived class.\n"
     ]
    }
   ],
   "source": [
    "class DerivedOrGetsError extends Base {\n",
    "    constructor() {\n",
    "        console.log(this.k)\n",
    "        super()\n",
    "    }\n",
    "}"
   ]
  },
  {
   "cell_type": "markdown",
   "metadata": {},
   "source": [
    "### Method"
   ]
  },
  {
   "cell_type": "code",
   "execution_count": 15,
   "metadata": {},
   "outputs": [],
   "source": [
    "class Point {\n",
    "    x: number;\n",
    "    y: number;\n",
    "    \n",
    "    constructor(x = 0, y=0) {\n",
    "        this.x = x\n",
    "        this.y = y\n",
    "    }\n",
    "    \n",
    "    xWithy(): number {\n",
    "        return this.x * this.y\n",
    "    }\n",
    "}"
   ]
  },
  {
   "cell_type": "code",
   "execution_count": 16,
   "metadata": {},
   "outputs": [],
   "source": [
    "const p: Point = new Point(10, 20)"
   ]
  },
  {
   "cell_type": "code",
   "execution_count": 17,
   "metadata": {},
   "outputs": [
    {
     "name": "stdout",
     "output_type": "stream",
     "text": [
      "\u001b[33m200\u001b[39m\n"
     ]
    }
   ],
   "source": [
    "p.xWithy()"
   ]
  },
  {
   "cell_type": "markdown",
   "metadata": {},
   "source": [
    "#### Getters / Setters"
   ]
  },
  {
   "cell_type": "code",
   "execution_count": 18,
   "metadata": {},
   "outputs": [],
   "source": [
    "class PointGetter {\n",
    "    x: number\n",
    "    \n",
    "    constructor(x = 0) {\n",
    "        this.x = x\n",
    "    }\n",
    "    \n",
    "    // getter\n",
    "    get length(): number {\n",
    "        return this.x\n",
    "    }\n",
    "    \n",
    "    set length(x: number) {\n",
    "        this.x = x\n",
    "    }\n",
    "}"
   ]
  },
  {
   "cell_type": "code",
   "execution_count": 19,
   "metadata": {},
   "outputs": [],
   "source": [
    "const pg = new PointGetter(10)"
   ]
  },
  {
   "cell_type": "code",
   "execution_count": 21,
   "metadata": {},
   "outputs": [
    {
     "name": "stdout",
     "output_type": "stream",
     "text": [
      "\u001b[33m10\u001b[39m\n"
     ]
    }
   ],
   "source": [
    "pg.length // getter"
   ]
  },
  {
   "cell_type": "code",
   "execution_count": 25,
   "metadata": {},
   "outputs": [
    {
     "name": "stdout",
     "output_type": "stream",
     "text": [
      "\u001b[33m100\u001b[39m\n"
     ]
    }
   ],
   "source": [
    "pg.length = 100 // setter"
   ]
  },
  {
   "cell_type": "code",
   "execution_count": 26,
   "metadata": {},
   "outputs": [
    {
     "name": "stdout",
     "output_type": "stream",
     "text": [
      "\u001b[33m100\u001b[39m\n"
     ]
    }
   ],
   "source": [
    "pg.length"
   ]
  },
  {
   "cell_type": "markdown",
   "metadata": {},
   "source": [
    "### implements: 구현"
   ]
  },
  {
   "cell_type": "code",
   "execution_count": 27,
   "metadata": {},
   "outputs": [],
   "source": [
    "interface Pingable {\n",
    "    ping(): void;\n",
    "}"
   ]
  },
  {
   "cell_type": "code",
   "execution_count": 28,
   "metadata": {},
   "outputs": [],
   "source": [
    "class Sonar implements Pingable {\n",
    "    ping() {\n",
    "        console.warn(\"pong\")\n",
    "    }\n",
    "}"
   ]
  },
  {
   "cell_type": "code",
   "execution_count": 29,
   "metadata": {},
   "outputs": [],
   "source": [
    "const s = new Sonar()"
   ]
  },
  {
   "cell_type": "code",
   "execution_count": 30,
   "metadata": {},
   "outputs": [
    {
     "name": "stderr",
     "output_type": "stream",
     "text": [
      "pong\n"
     ]
    }
   ],
   "source": [
    "s.ping()"
   ]
  },
  {
   "cell_type": "markdown",
   "metadata": {},
   "source": [
    "### extends: 추가"
   ]
  },
  {
   "cell_type": "code",
   "execution_count": 31,
   "metadata": {},
   "outputs": [],
   "source": [
    "class Animal {\n",
    "    move(): string {\n",
    "        return \"move\"\n",
    "    }\n",
    "}"
   ]
  },
  {
   "cell_type": "code",
   "execution_count": 32,
   "metadata": {},
   "outputs": [],
   "source": [
    "class Dog extends Animal {\n",
    "    woof(times: number) {\n",
    "        for (let i=0; i < times; i++) {\n",
    "            console.log(\"woof\")\n",
    "        }\n",
    "    }\n",
    "}"
   ]
  },
  {
   "cell_type": "code",
   "execution_count": 33,
   "metadata": {},
   "outputs": [],
   "source": [
    "const d = new Dog()"
   ]
  },
  {
   "cell_type": "code",
   "execution_count": 34,
   "metadata": {},
   "outputs": [
    {
     "name": "stdout",
     "output_type": "stream",
     "text": [
      "move\n"
     ]
    }
   ],
   "source": [
    "d.move()"
   ]
  },
  {
   "cell_type": "code",
   "execution_count": 35,
   "metadata": {},
   "outputs": [
    {
     "name": "stdout",
     "output_type": "stream",
     "text": [
      "woof\n",
      "woof\n",
      "woof\n"
     ]
    }
   ],
   "source": [
    "d.woof(3)"
   ]
  },
  {
   "cell_type": "markdown",
   "metadata": {},
   "source": [
    "### Method Overriding"
   ]
  },
  {
   "cell_type": "code",
   "execution_count": 36,
   "metadata": {},
   "outputs": [],
   "source": [
    "class Base {\n",
    "    greet(): string {return \"greet\"}\n",
    "}"
   ]
  },
  {
   "cell_type": "code",
   "execution_count": 37,
   "metadata": {},
   "outputs": [],
   "source": [
    "class Derived extends Base {\n",
    "    // extended method should follow parent's method\n",
    "    // it cannot be have \"required\" value\n",
    "    greet(name?: string): string {\n",
    "        if (name === undefined) {\n",
    "            return super.greet(); // parent\n",
    "        }\n",
    "        return name\n",
    "    }\n",
    "}"
   ]
  },
  {
   "cell_type": "code",
   "execution_count": 38,
   "metadata": {},
   "outputs": [],
   "source": [
    "const d = new Derived()"
   ]
  },
  {
   "cell_type": "code",
   "execution_count": 41,
   "metadata": {},
   "outputs": [
    {
     "name": "stdout",
     "output_type": "stream",
     "text": [
      "greet\n"
     ]
    }
   ],
   "source": [
    "d.greet() // executed from Base Method (super)"
   ]
  },
  {
   "cell_type": "code",
   "execution_count": 43,
   "metadata": {},
   "outputs": [
    {
     "name": "stdout",
     "output_type": "stream",
     "text": [
      "Hello\n"
     ]
    }
   ],
   "source": [
    "d.greet(\"Hello\") // executed from Derived Implemented Method"
   ]
  },
  {
   "cell_type": "markdown",
   "metadata": {},
   "source": [
    "### `public`, `protected`, `private`"
   ]
  },
  {
   "cell_type": "code",
   "execution_count": 48,
   "metadata": {},
   "outputs": [],
   "source": [
    "class Greeter {\n",
    "    public greet(): string {\n",
    "        return \"greet\"\n",
    "    }\n",
    "    private greets(): string {\n",
    "        return \"private_Greet\"\n",
    "    }\n",
    "    protected seenInSubClass(): string {\n",
    "        return \"subclass_Greet\"\n",
    "    }\n",
    "}"
   ]
  },
  {
   "cell_type": "code",
   "execution_count": 49,
   "metadata": {},
   "outputs": [],
   "source": [
    "const g = new Greeter()"
   ]
  },
  {
   "cell_type": "code",
   "execution_count": 50,
   "metadata": {},
   "outputs": [
    {
     "name": "stdout",
     "output_type": "stream",
     "text": [
      "greet\n"
     ]
    }
   ],
   "source": [
    "g.greet()"
   ]
  },
  {
   "cell_type": "code",
   "execution_count": 51,
   "metadata": {},
   "outputs": [
    {
     "name": "stderr",
     "output_type": "stream",
     "text": [
      "1:3 - Property 'greets' is private and only accessible within class 'Greeter'.\n"
     ]
    }
   ],
   "source": [
    "g.greets()"
   ]
  },
  {
   "cell_type": "code",
   "execution_count": 52,
   "metadata": {},
   "outputs": [
    {
     "name": "stderr",
     "output_type": "stream",
     "text": [
      "1:3 - Property 'seenInSubClass' is protected and only accessible within class 'Greeter' and its subclasses.\n"
     ]
    }
   ],
   "source": [
    "g.seenInSubClass()"
   ]
  },
  {
   "cell_type": "code",
   "execution_count": 53,
   "metadata": {},
   "outputs": [],
   "source": [
    "class SpecialGreeter extends Greeter {\n",
    "    public howdy(): string {\n",
    "        return this.seenInSubClass()\n",
    "    }\n",
    "}"
   ]
  },
  {
   "cell_type": "code",
   "execution_count": 54,
   "metadata": {},
   "outputs": [],
   "source": [
    "const sg = new SpecialGreeter()"
   ]
  },
  {
   "cell_type": "code",
   "execution_count": 55,
   "metadata": {},
   "outputs": [
    {
     "name": "stdout",
     "output_type": "stream",
     "text": [
      "subclass_Greet\n"
     ]
    }
   ],
   "source": [
    "sg.howdy()"
   ]
  }
 ],
 "metadata": {
  "kernelspec": {
   "display_name": "TypeScript",
   "language": "typescript",
   "name": "tslab"
  },
  "language_info": {
   "codemirror_mode": {
    "mode": "typescript",
    "name": "javascript",
    "typescript": true
   },
   "file_extension": ".ts",
   "mimetype": "text/typescript",
   "name": "typescript",
   "version": "3.7.2"
  }
 },
 "nbformat": 4,
 "nbformat_minor": 4
}
